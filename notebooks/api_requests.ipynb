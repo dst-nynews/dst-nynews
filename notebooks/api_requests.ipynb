{
 "cells": [
  {
   "cell_type": "markdown",
   "id": "cf446baf-d7c8-42de-bbd7-c4c9764711b2",
   "metadata": {},
   "source": [
    "# API Requests\n",
    "\n",
    "> Interaction avec plusieurs API du New York Times accessibles via leur [Portail API](https://developer.nytimes.com/apis) ouvert aux développeurs\n",
    "\n",
    "L'interaction avec ces API requiert la création d'une web app pour s'authentifier. Les identifiants de votre web app doivent être inséré dans vos requêtes API pour fonctionner."
   ]
  },
  {
   "cell_type": "code",
   "execution_count": 1,
   "id": "424154b7-a789-4100-8195-66da40cc5926",
   "metadata": {},
   "outputs": [],
   "source": [
    "import os\n",
    "import json\n",
    "from urllib.parse import urljoin\n",
    "import requests"
   ]
  },
  {
   "cell_type": "code",
   "execution_count": 2,
   "id": "d89351d1-3758-4352-88a9-6d9d88cc88f1",
   "metadata": {},
   "outputs": [],
   "source": [
    "# Récupére les identifiants dans les variables d'environnement\n",
    "from dotenv import load_dotenv\n",
    "\n",
    "load_dotenv()\n",
    "\n",
    "# Définit les constantes\n",
    "API_KEY = os.environ[\"KEY_API_NYT\"]\n",
    "BASE_URI = \"https://api.nytimes.com/\""
   ]
  },
  {
   "cell_type": "markdown",
   "id": "b42d522c-38d5-4d87-b1ea-d65350f7d294",
   "metadata": {},
   "source": [
    "## Utils"
   ]
  },
  {
   "cell_type": "code",
   "execution_count": 3,
   "id": "bea23b42-e217-4f45-8e9c-e78679875cf4",
   "metadata": {},
   "outputs": [],
   "source": [
    "# Fonctions réutilisables \n",
    "        \n",
    "def write_json(data, year, month):\n",
    "    \n",
    "    filepath = f\"../data/raw_data/archive_api/archive_{year}_{month}.json\"\n",
    "    with open(filepath, \"w\") as file:\n",
    "        json.dump(data, file)"
   ]
  },
  {
   "attachments": {},
   "cell_type": "markdown",
   "id": "efa932cc-4747-46ff-8bbb-e7383eef43e0",
   "metadata": {},
   "source": [
    "## Archive API"
   ]
  },
  {
   "cell_type": "code",
   "execution_count": 4,
   "id": "2264da43-731b-4344-baee-ec75eb3d0322",
   "metadata": {},
   "outputs": [],
   "source": [
    "def get_archive(year, month):\n",
    "    \n",
    "    url_path = f\"/svc/archive/v1/{year}/{month}.json\"\n",
    "    url = urljoin(BASE_URI, url_path)\n",
    "    params = {\"api-key\": API_KEY}\n",
    "    # print(f\"url: {url}\")\n",
    "    \n",
    "    response = requests.get(url, params=params)\n",
    "    \n",
    "    # print(response.status_code)\n",
    "    return response.json()"
   ]
  },
  {
   "cell_type": "code",
   "execution_count": 5,
   "id": "927e3e53-da7d-4537-a3bb-b76fedcfb31a",
   "metadata": {},
   "outputs": [
    {
     "name": "stdout",
     "output_type": "stream",
     "text": [
      "- 9691 articles récupérés pour 10-2010\n"
     ]
    }
   ],
   "source": [
    "# Requête à  l'API\n",
    "year = 2010\n",
    "month = 10\n",
    "query = get_archive(year, month)\n",
    "\n",
    "# Sauvegarde le résultat dans un fichier JSON\n",
    "write_json(query, year, month)\n",
    "\n",
    "# Affiche la quantité d'articles collectés\n",
    "hits = query[\"response\"][\"meta\"][\"hits\"]  # chemin identifié sur une réponse dans Postman\n",
    "print(f\"- {hits} articles récupérés pour {month}-{year}\")"
   ]
  }
 ],
 "metadata": {
  "kernelspec": {
   "display_name": "Python 3 (ipykernel)",
   "language": "python",
   "name": "python3"
  },
  "language_info": {
   "codemirror_mode": {
    "name": "ipython",
    "version": 3
   },
   "file_extension": ".py",
   "mimetype": "text/x-python",
   "name": "python",
   "nbconvert_exporter": "python",
   "pygments_lexer": "ipython3",
   "version": "3.11.1"
  }
 },
 "nbformat": 4,
 "nbformat_minor": 5
}
