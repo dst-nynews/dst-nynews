{
 "cells": [
  {
   "attachments": {},
   "cell_type": "markdown",
   "id": "cf446baf-d7c8-42de-bbd7-c4c9764711b2",
   "metadata": {},
   "source": [
    "# Utiliser une API du New York Times pour collecter des données\n",
    "\n",
    "> Exemple d'interaction avec une API du New York Times (`Archive API`) accessibles via leur [Portail API](https://developer.nytimes.com/apis) ouvert aux développeurs\n"
   ]
  },
  {
   "attachments": {},
   "cell_type": "markdown",
   "id": "4a8e2bf0",
   "metadata": {},
   "source": [
    "## Pré-requis\n",
    "\n",
    "> Voici les étapes à suivre, si vous voulez utiliser ce notebook en-dehors de l'environnement du projet. "
   ]
  },
  {
   "attachments": {},
   "cell_type": "markdown",
   "id": "2a86d211",
   "metadata": {},
   "source": [
    "### Authentification  "
   ]
  },
  {
   "attachments": {},
   "cell_type": "markdown",
   "id": "11473db7",
   "metadata": {},
   "source": [
    "#### Identifiants: compte Dev pour le New York Times\n",
    "\n",
    "Les requêtes à ces API doivent être authentifier pour être accepté par le New York Times. \n",
    "\n",
    "1.  Créez un compte développeur sur le Portail API du New York Times.\n",
    "2.  Dans votre compte développeur, créez une web app.\n",
    "3.  Spécifier les API qque vous souhaitez utiliser (dont `Archive API`).\n",
    "4.  Récupérer la clé API de votre web app.\n",
    "\n",
    "Vous pouvez retrouver la procédure détaillée en suivant ce [lien](https://developer.nytimes.com/get-started)."
   ]
  },
  {
   "attachments": {},
   "cell_type": "markdown",
   "id": "d42f8fcf",
   "metadata": {},
   "source": [
    "#### Accès: variables d'environnements\n",
    "\n",
    "Afin d'utiliser notre clé API sans l'écrire dans le notebook, nous allons l'enregistrer dans une variable d'environnement.\n",
    "\n",
    "1.  Créez un fichier `.env` (dans le même environnement que ce notebook).\n",
    "2.  Dans votre fichier `.env`, créez une variable d'environnement (`KEY_API_NYT`) associée à votre clé:  \n",
    "\n",
    "                `KEY_API_NYT=ma-cle-api-super-secrete`\n"
   ]
  },
  {
   "attachments": {},
   "cell_type": "markdown",
   "id": "2f5c11dd",
   "metadata": {},
   "source": [
    "### Dépendances Python"
   ]
  },
  {
   "attachments": {},
   "cell_type": "markdown",
   "id": "93077d6b",
   "metadata": {},
   "source": [
    "> Pour installer les packages requis pour ce Notebook, décommentez et lancez la cellule qui suit:"
   ]
  },
  {
   "cell_type": "code",
   "execution_count": 7,
   "id": "da14c777",
   "metadata": {},
   "outputs": [],
   "source": [
    "# %pip install python-dotenv requests"
   ]
  },
  {
   "attachments": {},
   "cell_type": "markdown",
   "id": "eca0e4cc",
   "metadata": {},
   "source": [
    "## Workflow du notebook"
   ]
  },
  {
   "cell_type": "code",
   "execution_count": 8,
   "id": "424154b7-a789-4100-8195-66da40cc5926",
   "metadata": {},
   "outputs": [],
   "source": [
    "import os\n",
    "import json\n",
    "from urllib.parse import urljoin\n",
    "import requests"
   ]
  },
  {
   "cell_type": "code",
   "execution_count": 9,
   "id": "d89351d1-3758-4352-88a9-6d9d88cc88f1",
   "metadata": {},
   "outputs": [],
   "source": [
    "# Récupére les identifiants dans les variables d'environnement\n",
    "from dotenv import load_dotenv\n",
    "\n",
    "load_dotenv()\n",
    "\n",
    "# Définit les constantes\n",
    "API_KEY = os.environ[\"KEY_API_NYT\"]\n",
    "BASE_URI = \"https://api.nytimes.com/\""
   ]
  },
  {
   "cell_type": "code",
   "execution_count": 10,
   "id": "2264da43-731b-4344-baee-ec75eb3d0322",
   "metadata": {},
   "outputs": [],
   "source": [
    "# Requêtage de l'API `Archive`\n",
    "\n",
    "def get_archive(year, month):\n",
    "    \"\"\"GET request to the Archive API of the NY Times\n",
    "\n",
    "    Args:\n",
    "        year (int): Year of publication of articles\n",
    "        month (int): Month of publication of articles\n",
    "\n",
    "    Returns:\n",
    "        dict[str, str]: Response as a JSON\n",
    "    \"\"\"\n",
    "    \n",
    "    url_path = f\"/svc/archive/v1/{year}/{month}.json\"\n",
    "    url = urljoin(BASE_URI, url_path)\n",
    "    params = {\"api-key\": API_KEY}\n",
    "\n",
    "    response = requests.get(url, params=params)\n",
    "    print(f\"- statut de la requête API: {response.status_code}\")\n",
    "    \n",
    "    return response.json()"
   ]
  },
  {
   "cell_type": "code",
   "execution_count": 11,
   "id": "bea23b42-e217-4f45-8e9c-e78679875cf4",
   "metadata": {},
   "outputs": [],
   "source": [
    "# Utilitaire pour sauvegarder les résultats (au format JSON) \n",
    "\n",
    "def write_json(data, year, month):\n",
    "    \"\"\"Save response in a JSON file\n",
    "\n",
    "    Args:\n",
    "        data (dict[str, str]): Response as a JSON\n",
    "        year (int): Year of publication of articles\n",
    "        month (int): Month of publication of articles\n",
    "    \"\"\"\n",
    "    \n",
    "    filepath = f\"archive_api-{year}_{month}.json\"\n",
    "    with open(filepath, \"w\") as file:\n",
    "        json.dump(data, file)"
   ]
  },
  {
   "attachments": {},
   "cell_type": "markdown",
   "id": "14765b3e",
   "metadata": {},
   "source": [
    "### Example d'éxécution du workflow"
   ]
  },
  {
   "cell_type": "code",
   "execution_count": 12,
   "id": "927e3e53-da7d-4537-a3bb-b76fedcfb31a",
   "metadata": {},
   "outputs": [
    {
     "name": "stdout",
     "output_type": "stream",
     "text": [
      "\n",
      "- statut de la requête API: 200\n",
      "- 9691 articles récupérés pour 10-2010\n"
     ]
    }
   ],
   "source": [
    "# Requête à  l'API\n",
    "year = 2010\n",
    "month = 10\n",
    "query = get_archive(year, month)\n",
    "\n",
    "# Sauvegarde le résultat dans un fichier JSON\n",
    "write_json(query, year, month)\n",
    "\n",
    "# Affiche la quantité d'articles collectés\n",
    "hits = query[\"response\"][\"meta\"][\"hits\"]  # chemin identifié sur une réponse dans Postman\n",
    "print(f\"- {hits} articles récupérés pour {month}-{year}\")"
   ]
  }
 ],
 "metadata": {
  "kernelspec": {
   "display_name": "Python 3 (ipykernel)",
   "language": "python",
   "name": "python3"
  },
  "language_info": {
   "codemirror_mode": {
    "name": "ipython",
    "version": 3
   },
   "file_extension": ".py",
   "mimetype": "text/x-python",
   "name": "python",
   "nbconvert_exporter": "python",
   "pygments_lexer": "ipython3",
   "version": "3.11.1"
  }
 },
 "nbformat": 4,
 "nbformat_minor": 5
}
