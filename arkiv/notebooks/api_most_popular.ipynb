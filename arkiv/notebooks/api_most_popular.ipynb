{
 "cells": [
  {
   "attachments": {},
   "cell_type": "markdown",
   "id": "cf446baf-d7c8-42de-bbd7-c4c9764711b2",
   "metadata": {},
   "source": [
    "# Requêter l'API [`Most Popular`](https://developer.nytimes.com/docs/most-popular-product/1/overview) \n",
    "\n",
    "> Interaction avec une API du New York Times accessibles via leur [Portail API](https://developer.nytimes.com/apis) ouvert aux développeurs"
   ]
  },
  {
   "cell_type": "code",
   "execution_count": 1,
   "id": "424154b7-a789-4100-8195-66da40cc5926",
   "metadata": {},
   "outputs": [],
   "source": [
    "import os\n",
    "import json\n",
    "from urllib.parse import urljoin\n",
    "import requests"
   ]
  },
  {
   "attachments": {},
   "cell_type": "markdown",
   "id": "c728c9a5",
   "metadata": {},
   "source": [
    ":rotating_light:  L'interaction avec ces API requiert la création d'une web app pour s'authentifier.  \n",
    "\n",
    "-   :old_key:  La clé API de votre web app doivent être inséré dans vos requêtes API pour fonctionner.  \n",
    "-   :shield:  Ce Notebook récupère cette clé API via une variable d'environnement (`KEY_API_NYT`)."
   ]
  },
  {
   "cell_type": "code",
   "execution_count": 2,
   "id": "d89351d1-3758-4352-88a9-6d9d88cc88f1",
   "metadata": {},
   "outputs": [],
   "source": [
    "# Récupére les identifiants dans les variables d'environnement\n",
    "from dotenv import load_dotenv\n",
    "\n",
    "load_dotenv()\n",
    "\n",
    "# Définit les constantes\n",
    "API_KEY = os.environ[\"KEY_API_NYT\"]\n",
    "BASE_URI = \"https://api.nytimes.com/\""
   ]
  },
  {
   "attachments": {},
   "cell_type": "markdown",
   "id": "b42d522c-38d5-4d87-b1ea-d65350f7d294",
   "metadata": {},
   "source": [
    "## Utilitaires"
   ]
  },
  {
   "cell_type": "code",
   "execution_count": 3,
   "id": "bea23b42-e217-4f45-8e9c-e78679875cf4",
   "metadata": {},
   "outputs": [],
   "source": [
    "def write_json(data, endpoint, period):\n",
    "    \n",
    "    from datetime import date\n",
    "    today = date.today()\n",
    "    # print(\"Today's date:\", today)\n",
    "    # print(today.day)\n",
    "    # print(today.month)\n",
    "    \n",
    "    filepath = f\"../data/raw_data/most_popular-{endpoint}_{period}d-{today.month}_{today.day}.json\"\n",
    "    with open(filepath, \"w\") as file:\n",
    "        json.dump(data, file)"
   ]
  },
  {
   "attachments": {},
   "cell_type": "markdown",
   "id": "efa932cc-4747-46ff-8bbb-e7383eef43e0",
   "metadata": {},
   "source": [
    "## Appel de l'API"
   ]
  },
  {
   "cell_type": "code",
   "execution_count": 4,
   "id": "2264da43-731b-4344-baee-ec75eb3d0322",
   "metadata": {},
   "outputs": [],
   "source": [
    "def get_most_popular(endpoint=\"emailed\", period=1):\n",
    "\n",
    "    # values for endpoint: [\"emailed\", \"shared\", \"viewed\"]\n",
    "    # values for period: [1, 7, 30]\n",
    "    \n",
    "    url_path = f\"/svc/mostpopular/v2/{endpoint}/{period}.json\"\n",
    "    url = urljoin(BASE_URI, url_path)\n",
    "    params = {\"api-key\": API_KEY}\n",
    "    # print(f\"url: {url}\")\n",
    "    \n",
    "    response = requests.get(url, params=params)\n",
    "    \n",
    "    # print(response.status_code)\n",
    "    return response.json()"
   ]
  },
  {
   "attachments": {},
   "cell_type": "markdown",
   "id": "86fbbd61",
   "metadata": {},
   "source": [
    "Cette fonctionne avec 3 des 4 endpoints de l'API `Most Popular`:\n",
    "- [x] `emailed`\n",
    "- [x] `shared`\n",
    "- [ ] `shared_type` \n",
    "- [x] `viewed`\n",
    "\n",
    "et pour les 3 durées possibles (en jours):\n",
    "- [x] `1` \n",
    "- [x] `7` \n",
    "- [x] `30` "
   ]
  },
  {
   "cell_type": "code",
   "execution_count": 5,
   "id": "d1e81341",
   "metadata": {},
   "outputs": [
    {
     "name": "stdout",
     "output_type": "stream",
     "text": [
      "Today's date: 2023-03-12\n",
      "12\n",
      "3\n"
     ]
    }
   ],
   "source": [
    "from datetime import date\n",
    "\n",
    "today = date.today()\n",
    "print(\"Today's date:\", today)\n",
    "print(today.day)\n",
    "print(today.month)"
   ]
  },
  {
   "attachments": {},
   "cell_type": "markdown",
   "id": "da1df1ec",
   "metadata": {},
   "source": [
    "## Workflow"
   ]
  },
  {
   "cell_type": "code",
   "execution_count": 6,
   "id": "927e3e53-da7d-4537-a3bb-b76fedcfb31a",
   "metadata": {},
   "outputs": [],
   "source": [
    "# Requête à  l'API\n",
    "endpoint = \"viewed\"\n",
    "period = 7\n",
    "\n",
    "query = get_most_popular(endpoint, period)\n",
    "\n",
    "# Sauvegarde le résultat dans un fichier JSON\n",
    "write_json(query, endpoint, period)\n",
    "\n",
    "# Affiche la quantité d'articles collectés\n",
    "# hits = query[\"response\"][\"meta\"][\"hits\"]  # chemin identifié sur une réponse dans Postman\n",
    "# print(f\"- {hits} articles récupérés pour {month}-{year}\")"
   ]
  }
 ],
 "metadata": {
  "kernelspec": {
   "display_name": "Python 3 (ipykernel)",
   "language": "python",
   "name": "python3"
  },
  "language_info": {
   "codemirror_mode": {
    "name": "ipython",
    "version": 3
   },
   "file_extension": ".py",
   "mimetype": "text/x-python",
   "name": "python",
   "nbconvert_exporter": "python",
   "pygments_lexer": "ipython3",
   "version": "3.8.14"
  }
 },
 "nbformat": 4,
 "nbformat_minor": 5
}
